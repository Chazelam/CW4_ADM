{
 "cells": [
  {
   "cell_type": "markdown",
   "metadata": {},
   "source": [
    "$$C(x,y,z,t)={\\frac {Q}{(2\\pi )^{3/2}\\sigma _{x}\\sigma _{y}\\sigma _{z}}} \\exp[-{\\frac {((x-x_{0})-ut)^{2}}{2\\sigma _{x}^{2}}}] \\exp[-{\\frac {(y-y_{0})^{2}}{2\\sigma _{y}^{2}}}] \\{\\exp[-{\\frac {(z-H)^{2}}{2\\sigma _{z}^{2}}}] + \\exp[-{\\frac {(z+H)^{2}}{2\\sigma _{z}^{2}}]\\}}]$$"
   ]
  },
  {
   "cell_type": "code",
   "execution_count": 6,
   "metadata": {},
   "outputs": [],
   "source": [
    "from gaussian_plume_model import GaussianPlumeModel\n",
    "import numpy as np\n",
    "\n",
    "# Константы\n",
    "SOURCE_EMISSION_RATE = 10  # Скорость выброса источника (кг/с)\n",
    "WIND_SPEED = 3  # Скорость ветра (м/с)\n",
    "WIND_DIRECTION = 135 # Направление ветра в градусах (Относительно оси X)\n",
    "RELEASE_HEIGHT = 2  # Высота выброса (м)\n",
    "MIN_CONCENTRATION = 10e-40#5*10e-6 # Минимальный порог концентрации\n",
    "SOURCE_POSITIONS = [(100, 0, 0),   (180, 0, 0),\n",
    "                    (100, 40, 0),  (180, 40, 0), (260, 40, 0), \n",
    "                                    (180, 80, 0), (260, 80, 0), \n",
    "                                                    (260, 120, 0)]  # Позиция источника (x0, y0, z0)\n",
    "\n",
    "# Параметры сетки\n",
    "DOMAIN_SIZE_X = 6000  # Размер области по x (м)\n",
    "DOMAIN_SIZE_Y = 1500  # Размер области по y (м)\n",
    "NUM_POINTS = 500  # Количество точек для построения"
   ]
  },
  {
   "cell_type": "code",
   "execution_count": 7,
   "metadata": {},
   "outputs": [],
   "source": [
    "class NonStationaryGaussianPlumeModel(GaussianPlumeModel):\n",
    "    DISPERSION_COEFFICIENTS = {\n",
    "    \"A\": {\"a\": 1,   \"a_1\": 0.112,  \"a_2\": 5.38e-4, \"b_1\": 1.06,  \"b_2\": 0.815, 'c_1': 6.45, 'c_2': 2510, \"c_3\": 0.305,  'c_4': 1.8365, 'd_1': -0.097, 'd_2': -0.44375},\n",
    "    \"B\": {\"a\": 1.1, \"a_1\": 0.130,  \"a_2\": 6.52e-4, \"b_1\": 0.950, \"b_2\": 0.750, 'c_1': 6.45, 'c_2': 2510, \"c_3\": 0.223,  'c_4': 1.8365, 'd_1': -0.097, 'd_2': -0.44375},\n",
    "    \"C\": {\"a\": 1.2, \"a_1\": 0.112,  \"a_2\": 9.05e-4, \"b_1\": 0.920, \"b_2\": 0.718, 'c_1': 6.45, 'c_2': 2510, \"c_3\": 0.1575, 'c_4': 1.8365, 'd_1': -0.097, 'd_2': -0.44375},\n",
    "    \"D\": {\"a\": 1.3, \"a_1\": 0.098,  \"a_2\": 1.35e-3, \"b_1\": 0.889, \"b_2\": 0.688, 'c_1': 6.45, 'c_2': 2510, \"c_3\": 0.1116, 'c_4': 1.8365, 'd_1': -0.097, 'd_2': -0.44375},\n",
    "    \"E\": {\"a\": 1.3, \"a_1\": 0.0609, \"a_2\": 1.96e-3, \"b_1\": 0.895, \"b_2\": 0.684, 'c_1': 6.45, 'c_2': 2510, \"c_3\": 0.816,  'c_4': 1.8365, 'd_1': -0.097, 'd_2': -0.44375},\n",
    "    \"F\": {\"a\": 1.5, \"a_1\": 0.0638, \"a_2\": 1.36e-3, \"b_1\": 0.783, \"b_2\": 0.672, 'c_1': 6.45, 'c_2': 2510, \"c_3\": 0.5583, 'c_4': 1.8365, 'd_1': -0.097, 'd_2': -0.44375}\n",
    "    }\n",
    "\n",
    "    def __init__(self, domain_size_x, domain_size_y, num_points, source_emission_rate, wind_speed, wind_direction, release_height, source_positions):\n",
    "        super().__init__(domain_size_x, domain_size_y, num_points, source_emission_rate, wind_speed, wind_direction, release_height, source_positions)\n",
    "\n",
    "    def calculate_plume_dispersion(self, x: float, stability_class: str) -> tuple[float, float, float]:\n",
    "        '''\n",
    "        :x - x-x_0\n",
    "        '''\n",
    "        coeff = self.DISPERSION_COEFFICIENTS.get(stability_class)\n",
    "        a,  a1, a2     = coeff[\"a\"],   coeff[\"a_1\"], coeff[\"a_2\"]\n",
    "        b1, b2         = coeff[\"b_1\"], coeff[\"b_2\"]\n",
    "        c1, c2, c3, c4 = coeff[\"c_1\"], coeff[\"c_2\"], coeff[\"c_3\"], coeff[\"c_4\"]\n",
    "        d1, d2         = coeff[\"d_1\"], coeff[\"d_2\"]\n",
    "\n",
    "        sigma_y = (c3*x)/np.sqrt(1+c4*10e-4*x)\n",
    "\n",
    "        # f = np.log(abs(c1*(x**d1)/(1 + c2*x**d2)))\n",
    "        # g = (a1*x**b1)/(1+a2*x**b2)\n",
    "        g = a2*x**b2\n",
    "        print(g.min())\n",
    "        # sigma_z = (f*g) # v = 0 тк невесомое ЗВ\n",
    "        sigma_z = (g) # v = 0 тк невесомое ЗВ\n",
    "\n",
    "        sigma_x = a*sigma_y\n",
    "\n",
    "        return sigma_x, sigma_y, sigma_z\n",
    "\n",
    "    def calculate_concentration(self, x: np.ndarray, y: np.ndarray, z: float, t: float, stability_class: str) -> np.ndarray:\n",
    "        \"\"\"\n",
    "        Рассчитывает концентрацию загрязнителя с использованием Не Стационарной Гауссовой модели рассеивания примеси.\n",
    "\n",
    "        :param x: Расстояние по направлению ветра от источника (м).\n",
    "        :param y: Поперечное расстояние от центральной линии (м).\n",
    "        :param z: Вертикальное расстояние от земли (м).\n",
    "        :param t: Время\n",
    "        :param stability_class: Класс атмосферной стабильности (\"B\", \"C\" или \"D\").\n",
    "        :return: Массив концентраций.\n",
    "        \"\"\"\n",
    "\n",
    "        if not self.source_positions:\n",
    "            raise ValueError(\"source_positions cannot be empty\")\n",
    "\n",
    "        concentration = np.zeros(x.shape)\n",
    "        for source in self.source_positions:\n",
    "            x_0 = source[0]\n",
    "            # print(x_0, end=\" - \")\n",
    "            y_0 = source[1]\n",
    "            # Маска для точек, которые находятся \"после\" источника по оси X\n",
    "            mask = x >= x_0\n",
    "            \n",
    "            # Расстояние от источника (только для точек, которые находятся \"после\" источника)\n",
    "            distance = np.where(mask, x - x_0, 0)\n",
    "            \n",
    "            # Рассчитываем коэффициенты дисперсии только для точек, которые находятся \"после\" источника            \n",
    "            sigma_x, sigma_y, sigma_z = self.calculate_plume_dispersion(distance, stability_class)\n",
    "            \n",
    "            # Заменяем нулевые значения на очень маленькие положительные числа для избежания деления на 0\n",
    "            sigma_x = np.where(sigma_x <= 0, 1e-20, sigma_x)\n",
    "            sigma_y = np.where(sigma_y <= 0, 1e-20, sigma_y)\n",
    "            sigma_z = np.where(sigma_z <= 0, 1e-20, sigma_z)\n",
    "\n",
    "            # Вычисляем концентрацию только для точек, которые находятся \"после\" источника\n",
    "            term1 = self.source_emission_rate / (((2 * np.pi)**(3/2)) * sigma_x * sigma_y * sigma_z)\n",
    "            term2 = np.exp(-((x - x_0 - self.wind_speed*t)**2)/(2 * sigma_x ** 2))\n",
    "            term3 = np.exp(-((y - y_0) ** 2) / (2 * sigma_y ** 2))\n",
    "            term4 = np.exp(-((z - self.release_height) ** 2) / (2 * sigma_z ** 2))\n",
    "            term5 = np.exp(-((z + self.release_height) ** 2) / (2 * sigma_z ** 2))\n",
    "            \n",
    "            # print(term4.max())\n",
    "\n",
    "\n",
    "            c = term1*term2*term3*(term4 + term5)\n",
    "            # Добавляем концентрацию только для точек, которые находятся \"после\" источника\n",
    "            concentration += np.where(mask, c, 0)\n",
    "\n",
    "        return concentration\n",
    "        "
   ]
  },
  {
   "cell_type": "code",
   "execution_count": 8,
   "metadata": {},
   "outputs": [
    {
     "name": "stdout",
     "output_type": "stream",
     "text": [
      "0.0\n",
      "0.0\n",
      "0.0\n",
      "0.0\n",
      "3.950468281773507e-18\n",
      "0.0\n",
      "0.0\n",
      "0.0\n",
      "<class 'numpy.ndarray'>\n",
      "9.991112247017146e-33\n"
     ]
    }
   ],
   "source": [
    "# Создание модели\n",
    "plume_model = NonStationaryGaussianPlumeModel(\n",
    "    domain_size_x        = DOMAIN_SIZE_X,\n",
    "    domain_size_y        = DOMAIN_SIZE_Y,\n",
    "    num_points           = NUM_POINTS,\n",
    "    source_emission_rate = SOURCE_EMISSION_RATE,\n",
    "    wind_speed           = WIND_SPEED,\n",
    "    wind_direction       = WIND_DIRECTION,\n",
    "    release_height       = RELEASE_HEIGHT,\n",
    "    source_positions     = SOURCE_POSITIONS\n",
    ")\n",
    "\n",
    "# Определение класса стабильности\n",
    "stability_class = plume_model.determine_atmospheric_stability(WIND_SPEED)\n",
    "\n",
    "# Создание сетки\n",
    "x_grid, y_grid = plume_model.create_grid()\n",
    "\n",
    "# Расчет концентрации\n",
    "concentration = plume_model.calculate_concentration(x_grid, y_grid, 1, 2, stability_class)\n",
    "print(type(concentration))\n",
    "print(concentration.max())"
   ]
  },
  {
   "cell_type": "code",
   "execution_count": 9,
   "metadata": {},
   "outputs": [
    {
     "name": "stderr",
     "output_type": "stream",
     "text": [
      "c:\\Users\\andre\\Documents\\VSCode\\CW4-ADM\\air_plume_model.py:42: UserWarning: linewidths is ignored by contourf\n",
      "  plt.contourf(\n"
     ]
    },
    {
     "data": {
      "image/png": "[encoded data removed]",
      "text/plain": [
       "<Figure size 640x480 with 2 Axes>"
      ]
     },
     "metadata": {},
     "output_type": "display_data"
    }
   ],
   "source": [
    "# Отрисовка графика\n",
    "plt = plume_model.plot(x_grid, y_grid, concentration, MIN_CONCENTRATION)\n",
    "plt.show()"
   ]
  }
 ],
 "metadata": {
  "kernelspec": {
   "display_name": ".venv",
   "language": "python",
   "name": "python3"
  },
  "language_info": {
   "codemirror_mode": {
    "name": "ipython",
    "version": 3
   },
   "file_extension": ".py",
   "mimetype": "text/x-python",
   "name": "python",
   "nbconvert_exporter": "python",
   "pygments_lexer": "ipython3",
   "version": "3.12.7"
  }
 },
 "nbformat": 4,
 "nbformat_minor": 2
}
