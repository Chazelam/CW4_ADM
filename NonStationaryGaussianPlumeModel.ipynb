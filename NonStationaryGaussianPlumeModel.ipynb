{
 "cells": [
  {
   "cell_type": "markdown",
   "metadata": {},
   "source": [
    "$$C(x,y,z,t)={\\frac {Q}{(2\\pi )^{3/2}\\sigma _{x}\\sigma _{y}\\sigma _{z}}} \\exp[-{\\frac {((x-x_{0})-ut)^{2}}{2\\sigma _{x}^{2}}}] \\exp[-{\\frac {(y-y_{0})^{2}}{2\\sigma _{y}^{2}}}] \\{\\exp[-{\\frac {(z-H)^{2}}{2\\sigma _{z}^{2}}}] + \\exp[-{\\frac {(z+H)^{2}}{2\\sigma _{z}^{2}}]\\}}]$$"
   ]
  },
  {
   "cell_type": "code",
   "execution_count": 118,
   "metadata": {},
   "outputs": [],
   "source": [
    "from gaussian_plume_model import GaussianPlumeModel\n",
    "import numpy as np\n",
    "\n",
    "# Константы\n",
    "SOURCE_EMISSION_RATE = 10  # Скорость выброса источника (кг/с)\n",
    "WIND_SPEED = 3  # Скорость ветра (м/с)\n",
    "WIND_DIRECTION = 0 # Направление ветра в градусах (Относительно оси X)\n",
    "RELEASE_HEIGHT = 0  # Высота выброса (м)\n",
    "# SOURCE_POSITIONS = [(100, 0, 0),   (180, 0, 0),\n",
    "#                     (100, 40, 0),  (180, 40, 0), (260, 40, 0), \n",
    "#                                     (180, 80, 0), (260, 80, 0), \n",
    "#                                                     (260, 120, 0)]  # Позиция источника (x0, y0, z0)\n",
    "\n",
    "SOURCE_POSITIONS = [(500, 0, 0)]\n",
    "# Параметры сетки\n",
    "DOMAIN_SIZE_X = 6000  # Размер области по x (м)\n",
    "DOMAIN_SIZE_Y = 1500  # Размер области по y (м)\n",
    "NUM_POINTS = 500  # Количество точек для построения"
   ]
  },
  {
   "cell_type": "code",
   "execution_count": 119,
   "metadata": {},
   "outputs": [],
   "source": [
    "class NonStationaryGaussianPlumeModel(GaussianPlumeModel):\n",
    "    # DISPERSION_COEFFICIENTS = {\n",
    "    # \"A\": {\"a\": 1,   \"a_1\": 0.112,  \"a_2\": 5.38e-4, \"b_1\": 1.06,  \"b_2\": 0.815, 'c_1': 6.45, 'c_2': 2510, \"c_3\": 0.305,  'c_4': 1.8365, 'd_1': -0.097, 'd_2': -0.44375},\n",
    "    # \"B\": {\"a\": 1.1, \"a_1\": 0.130,  \"a_2\": 6.52e-4, \"b_1\": 0.950, \"b_2\": 0.750, 'c_1': 6.45, 'c_2': 2510, \"c_3\": 0.223,  'c_4': 1.8365, 'd_1': -0.097, 'd_2': -0.44375},\n",
    "    # \"C\": {\"a\": 1.2, \"a_1\": 0.112,  \"a_2\": 9.05e-4, \"b_1\": 0.920, \"b_2\": 0.718, 'c_1': 6.45, 'c_2': 2510, \"c_3\": 0.1575, 'c_4': 1.8365, 'd_1': -0.097, 'd_2': -0.44375},\n",
    "    # \"D\": {\"a\": 1.3, \"a_1\": 0.098,  \"a_2\": 1.35e-3, \"b_1\": 0.889, \"b_2\": 0.688, 'c_1': 6.45, 'c_2': 2510, \"c_3\": 0.1116, 'c_4': 1.8365, 'd_1': -0.097, 'd_2': -0.44375},\n",
    "    # \"E\": {\"a\": 1.3, \"a_1\": 0.0609, \"a_2\": 1.96e-3, \"b_1\": 0.895, \"b_2\": 0.684, 'c_1': 6.45, 'c_2': 2510, \"c_3\": 0.816,  'c_4': 1.8365, 'd_1': -0.097, 'd_2': -0.44375},\n",
    "    # \"F\": {\"a\": 1.5, \"a_1\": 0.0638, \"a_2\": 1.36e-3, \"b_1\": 0.783, \"b_2\": 0.672, 'c_1': 6.45, 'c_2': 2510, \"c_3\": 0.5583, 'c_4': 1.8365, 'd_1': -0.097, 'd_2': -0.44375}\n",
    "    # }\n",
    "    DISPERSION_COEFFICIENTS = {\n",
    "        \"B\": {\"sigma_y\": (0.16, 0.0001), \"sigma_z\": (0.12, 0.0)},\n",
    "        \"C\": {\"sigma_y\": (0.11, 0.0001), \"sigma_z\": (0.08, 0.0002)},\n",
    "        \"D\": {\"sigma_y\": (0.08, 0.0001), \"sigma_z\": (0.06, 0.0015)},\n",
    "    }\n",
    "    def __init__(self, domain_size_x, domain_size_y, num_points, source_emission_rate, wind_speed, wind_direction, release_height, source_positions):\n",
    "        super().__init__(domain_size_x, domain_size_y, num_points, source_emission_rate, wind_speed, wind_direction, release_height, source_positions)\n",
    "\n",
    "    def calculate_plume_dispersion(self, x: float, stability_class: str) -> tuple[float, float, float]:\n",
    "        '''\n",
    "        :x - x-x_0\n",
    "        '''\n",
    "        # coeff = self.DISPERSION_COEFFICIENTS.get(stability_class)\n",
    "        # a,  a1, a2     = coeff[\"a\"],   coeff[\"a_1\"], coeff[\"a_2\"]\n",
    "        # b1, b2         = coeff[\"b_1\"], coeff[\"b_2\"]\n",
    "        # c1, c2, c3, c4 = coeff[\"c_1\"], coeff[\"c_2\"], coeff[\"c_3\"], coeff[\"c_4\"]\n",
    "        # d1, d2         = coeff[\"d_1\"], coeff[\"d_2\"]\n",
    "\n",
    "        # sigma_y = (c3*x)/np.sqrt(1+c4*10e-4*x)\n",
    "\n",
    "        # # f = np.log(abs(c1*(x**d1)/(1 + c2*x**d2)))\n",
    "        # # g = (a1*x**b1)/(1+a2*x**b2)\n",
    "        # g = a2*x**b2\n",
    "        # # print(g.max())\n",
    "        # # sigma_z = (f*g) # v = 0 тк невесомое ЗВ\n",
    "        # sigma_z = g # v = 0 тк невесомое ЗВ\n",
    "        coeff = self.DISPERSION_COEFFICIENTS.get(stability_class)\n",
    "        if not coeff:\n",
    "            raise ValueError(f\"Unknown stability class: {stability_class}\")\n",
    "\n",
    "        a_y, b_y = coeff[\"sigma_y\"]\n",
    "        a_z, b_z = coeff[\"sigma_z\"]\n",
    "\n",
    "        sigma_y = a_y * x / np.sqrt(1 + b_y * x)\n",
    "        sigma_z = a_z * x / np.sqrt(1 + b_z * x)\n",
    "\n",
    "        sigma_x = 1.3*sigma_y\n",
    "\n",
    "        return sigma_x, sigma_y, sigma_z\n",
    "\n",
    "    def calculate_concentration(self, x: np.ndarray, y: np.ndarray, z: float, t: float, stability_class: str) -> np.ndarray:\n",
    "        \"\"\"\n",
    "        Рассчитывает концентрацию загрязнителя с использованием Не Стационарной Гауссовой модели рассеивания примеси.\n",
    "\n",
    "        :param x: Расстояние по направлению ветра от источника (м).\n",
    "        :param y: Поперечное расстояние от центральной линии (м).\n",
    "        :param z: Вертикальное расстояние от земли (м).\n",
    "        :param t: Время\n",
    "        :param stability_class: Класс атмосферной стабильности (\"B\", \"C\" или \"D\").\n",
    "        :return: Массив концентраций.\n",
    "        \"\"\"\n",
    "\n",
    "        if not self.source_positions:\n",
    "            raise ValueError(\"source_positions cannot be empty\")\n",
    "\n",
    "        concentration = np.zeros(x.shape)\n",
    "        for source in self.source_positions:\n",
    "            x_0 = source[0]\n",
    "            # print(x_0, end=\" - \")\n",
    "            y_0 = source[1]\n",
    "            # Маска для точек, которые находятся \"после\" источника по оси X\n",
    "            mask = x >= x_0\n",
    "            \n",
    "            # Расстояние от источника (только для точек, которые находятся \"после\" источника)\n",
    "            distance = np.where(mask, x - x_0, 0)\n",
    "            \n",
    "            # Рассчитываем коэффициенты дисперсии только для точек, которые находятся \"после\" источника            \n",
    "            sigma_x, sigma_y, sigma_z = self.calculate_plume_dispersion(distance, stability_class)\n",
    "            \n",
    "            # Заменяем нулевые значения на очень маленькие положительные числа для избежания деления на 0\n",
    "            sigma_x = np.where(sigma_x <= 0, 1e-40, sigma_x)\n",
    "            sigma_y = np.where(sigma_y <= 0, 1e-40, sigma_y)\n",
    "            sigma_z = np.where(sigma_z <= 0, 1e-40, sigma_z)\n",
    "            print(f\"dx: {sigma_x.min()} - {sigma_x.max()}\")\n",
    "            print(f\"dy: {sigma_y.min()} - {sigma_y.max()}\")\n",
    "            print(f\"dz: {sigma_z.min()} - {sigma_z.max()}\")\n",
    "\n",
    "            # Вычисляем концентрацию только для точек, которые находятся \"после\" источника\n",
    "            term1 = self.source_emission_rate / (((2 * np.pi)**(3/2)) * sigma_x * sigma_y * sigma_z)\n",
    "            term2 = np.exp(-((x - x_0 - self.wind_speed*t)**2)/(2 * sigma_x ** 2))\n",
    "            term3 = np.exp(-((y - y_0) ** 2) / (2 * sigma_y ** 2))\n",
    "            term4 = np.exp(-((z - self.release_height) ** 2) / (2 * sigma_z ** 2))\n",
    "            term5 = np.exp(-((z + self.release_height) ** 2) / (2 * sigma_z ** 2))\n",
    "            \n",
    "            print(f\"1: {term1.max()}\")\n",
    "            print(f\"2: {term2.max()}\")\n",
    "            print(f\"3: {term3.max()}\")\n",
    "            print(f\"4: {term4.max()}\")\n",
    "            print(f\"5: {term5.max()}\")\n",
    "\n",
    "            c = term1*term2*term3*(term4 + term5)\n",
    "            # print(c.max())\n",
    "            # Добавляем концентрацию только для точек, которые находятся \"после\" источника\n",
    "            concentration += np.where(mask, c, 0)\n",
    "\n",
    "        return concentration"
   ]
  },
  {
   "cell_type": "code",
   "execution_count": 120,
   "metadata": {},
   "outputs": [
    {
     "name": "stdout",
     "output_type": "stream",
     "text": [
      "dx: 1e-40 - 583.7950553633242\n",
      "dy: 1e-40 - 449.07311951024934\n",
      "dz: 1e-40 - 282.84271247461896\n",
      "1: 6.349363593424098e+119\n",
      "2: 2.3463537965113085e-11\n",
      "3: 0.9999944103294429\n",
      "4: 1.0\n",
      "5: 1.0\n",
      "9.315673961603457e-12\n"
     ]
    }
   ],
   "source": [
    "# Создание модели\n",
    "plume_model = NonStationaryGaussianPlumeModel(\n",
    "    domain_size_x        = DOMAIN_SIZE_X,\n",
    "    domain_size_y        = DOMAIN_SIZE_Y,\n",
    "    num_points           = NUM_POINTS,\n",
    "    source_emission_rate = SOURCE_EMISSION_RATE,\n",
    "    wind_speed           = WIND_SPEED,\n",
    "    wind_direction       = WIND_DIRECTION,\n",
    "    release_height       = RELEASE_HEIGHT,\n",
    "    source_positions     = SOURCE_POSITIONS\n",
    ")\n",
    "\n",
    "# Определение класса стабильности\n",
    "stability_class = plume_model.determine_atmospheric_stability(WIND_SPEED)\n",
    "\n",
    "# Создание сетки\n",
    "x_grid, y_grid = plume_model.create_grid()\n",
    "\n",
    "# Расчет концентрации\n",
    "# print(type(concentration))\n",
    "# print(concentration.max())\n",
    "concentration = plume_model.calculate_concentration(x_grid, y_grid, 0, 0, stability_class)\n",
    "print(concentration.max())"
   ]
  },
  {
   "cell_type": "code",
   "execution_count": 122,
   "metadata": {},
   "outputs": [
    {
     "data": {
      "image/png": "[encoded data removed]",
      "text/plain": [
       "<Figure size 640x480 with 2 Axes>"
      ]
     },
     "metadata": {},
     "output_type": "display_data"
    }
   ],
   "source": [
    "# Отрисовка графика\n",
    "MIN_CONCENTRATION = 5*10e-25 # Минимальный порог концентрации\n",
    "plt = plume_model.plot(x_grid, y_grid, concentration, MIN_CONCENTRATION)\n",
    "plt.show()"
   ]
  },
  {
   "cell_type": "code",
   "execution_count": null,
   "metadata": {},
   "outputs": [
    {
     "data": {
      "text/plain": [
       "np.float64(0.0)"
      ]
     },
     "execution_count": 112,
     "metadata": {},
     "output_type": "execute_result"
    }
   ],
   "source": [
    "concentration[0][0]\n",
    "print(con1)"
   ]
  }
 ],
 "metadata": {
  "kernelspec": {
   "display_name": ".venv",
   "language": "python",
   "name": "python3"
  },
  "language_info": {
   "codemirror_mode": {
    "name": "ipython",
    "version": 3
   },
   "file_extension": ".py",
   "mimetype": "text/x-python",
   "name": "python",
   "nbconvert_exporter": "python",
   "pygments_lexer": "ipython3",
   "version": "3.12.7"
  }
 },
 "nbformat": 4,
 "nbformat_minor": 2
}
