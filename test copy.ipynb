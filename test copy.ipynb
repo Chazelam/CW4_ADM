{
 "cells": [
  {
   "cell_type": "code",
   "execution_count": 30,
   "metadata": {},
   "outputs": [
    {
     "data": {
      "text/plain": [
       "{'divide': 'ignore', 'over': 'warn', 'under': 'ignore', 'invalid': 'ignore'}"
      ]
     },
     "execution_count": 30,
     "metadata": {},
     "output_type": "execute_result"
    }
   ],
   "source": [
    "import numpy as np\n",
    "import matplotlib.pyplot as plt\n",
    "\n",
    "np.seterr(divide='ignore', invalid='ignore')"
   ]
  },
  {
   "cell_type": "code",
   "execution_count": 31,
   "metadata": {},
   "outputs": [],
   "source": [
    "# Constants\n",
    "Q = 10    # source emission rate (kg/s)\n",
    "U = 3     # wind speed (m/s)\n",
    "H = 0\n",
    "min_concentration = 9*10**(-7)\n",
    "x0, y0, z0 = 500, 0, 0\n",
    "z_0 = 1\n",
    "\n",
    "# Grid\n",
    "rmax = 4000  # size of domain in r (m)\n",
    "ymax = 2000  # size of domain in y (m)\n",
    "N = 2000     # number of plotting points"
   ]
  },
  {
   "cell_type": "code",
   "execution_count": 32,
   "metadata": {},
   "outputs": [],
   "source": [
    "# Определение устойчивости атмосферы\n",
    "def classify_atmospheric_stability(U: int):\n",
    "    ''''''\n",
    "    if U < 2:\n",
    "        return \"B\"\n",
    "    elif U < 5:\n",
    "        return \"C\"\n",
    "    else:\n",
    "        return \"D\""
   ]
  },
  {
   "cell_type": "code",
   "execution_count": 33,
   "metadata": {},
   "outputs": [],
   "source": [
    "def classify_consts_a(atmospheric_stability):\n",
    "    '''(a_1, a_2)'''\n",
    "    match atmospheric_stability:\n",
    "        case \"A\":\n",
    "            pass\n",
    "        case \"B\":\n",
    "            return (0.13, 0.000652)\n",
    "        case \"C\":\n",
    "            return (0.112, 0.000905)\n",
    "        case \"D\":\n",
    "            return (0.098, 0.00135)\n",
    "        case \"E\":\n",
    "            pass\n",
    "        case \"F\":\n",
    "            pass "
   ]
  },
  {
   "cell_type": "code",
   "execution_count": null,
   "metadata": {},
   "outputs": [],
   "source": [
    "def classify_consts_b(atmospheric_stability):\n",
    "    '''(b_1, b_2)'''\n",
    "    match atmospheric_stability:\n",
    "        case \"A\":\n",
    "            pass\n",
    "        case \"B\":\n",
    "            return (0.95, 0.75)\n",
    "        case \"C\":\n",
    "            return (0.92, 0.718)\n",
    "        case \"D\":\n",
    "            return (0.889, 0.688)\n",
    "        case \"E\":\n",
    "            pass\n",
    "        case \"F\":\n",
    "            pass \n",
    "\n",
    "\n",
    "DISPERSION_COEFFICIENTS = {\n",
    "    \"A\": {\"a\": (), \"b\": ()},\n",
    "    \"B\": {\"a\": (0.13, 0.000652),  \"b\": (0.95, 0.75)},\n",
    "    \"C\": {\"a\": (0.112, 0.000905), \"b\": (0.92, 0.718)},\n",
    "    \"D\": {\"a\": (0.098, 0.00135),  \"b\": (0.889, 0.688)},\n",
    "    \"E\": {\"a\": (), \"b\": ()},\n",
    "    \"F\": {\"a\": (), \"b\": ()},\n",
    "}"
   ]
  },
  {
   "cell_type": "code",
   "execution_count": 35,
   "metadata": {},
   "outputs": [],
   "source": [
    "def classify_consts_с(atmospheric_stability):\n",
    "    '''(c_1, c_2, c_3)'''\n",
    "    match atmospheric_stability:\n",
    "        case \"A\":\n",
    "            pass\n",
    "        case \"B\":\n",
    "            return (7.37, 4290, 0.24)\n",
    "        case \"C\":\n",
    "            return (7.37, 4290, 0.17)\n",
    "        case \"D\":\n",
    "            return (7.37, 4290, 0.12)\n",
    "        case \"E\":\n",
    "            pass\n",
    "        case \"F\":\n",
    "            pass "
   ]
  },
  {
   "cell_type": "code",
   "execution_count": 36,
   "metadata": {},
   "outputs": [],
   "source": [
    "def classify_consts_d(atmospheric_stability):\n",
    "    '''(d_1, d_2)'''\n",
    "    match atmospheric_stability:\n",
    "        case \"A\":\n",
    "            pass\n",
    "        case \"B\":\n",
    "            return (-0.0957, -0.6)\n",
    "        case \"C\":\n",
    "            return (-0.0957, -0.6)\n",
    "        case \"D\":\n",
    "            return (-0.0957, -0.6)\n",
    "        case \"E\":\n",
    "            pass\n",
    "        case \"F\":\n",
    "            pass "
   ]
  },
  {
   "cell_type": "code",
   "execution_count": 37,
   "metadata": {},
   "outputs": [],
   "source": [
    "'''(a1, a2, b1, b2, c1, c2, c3, c4, d1, d2)'''\n",
    "\n",
    "# a1 = 0.112\n",
    "# a2 = 5.38**(-4)\n",
    "# b1 = 1.06\n",
    "\n",
    "# c1 = 7.37\n",
    "# c2 = 4.29*10**3\n",
    "# d1 = -0.0957\n",
    "# d2 = -0.6\n",
    "\n",
    "# c3, c4 = 0.33, 1.5\n",
    "atmospheric_stability = classify_atmospheric_stability(U)\n",
    "a1, a2 = classify_consts_a(atmospheric_stability)\n",
    "b1, b2 = classify_consts_b(atmospheric_stability)\n",
    "c1, c2, c3 = classify_consts_с(atmospheric_stability)\n",
    "d1, d2 = classify_consts_b(atmospheric_stability)\n",
    "\n",
    "def calc_dy(x):\n",
    "    return (c3*x)/((1+c4*10**(-4)*x)**(1/2))\n",
    "\n",
    "def F(x):\n",
    "    if z0 <= 0.1:\n",
    "        return np.log(c1*(x**d1)*(1 + (c2*x**d2)**(-1)))\n",
    "    else:\n",
    "        return np.log(c1*(x**d1)*((1 + c2*x**d2)**(-1)))\n",
    "\n",
    "def g(x):\n",
    "    return (a1*x**b1)/(1+a2*x**d2)\n",
    "\n",
    "vg = 0\n",
    "\n",
    "def calc_dz(x):\n",
    "    return (F(x)*g(x))/((1 + vg**2)**(1/2))"
   ]
  },
  {
   "cell_type": "code",
   "execution_count": 38,
   "metadata": {},
   "outputs": [],
   "source": [
    "def gauss_func(x, y, z, atmospheric_stability):\n",
    "    \n",
    "    dy, dz = calc_dy(x), calc_dz(x)#calculate_plume_dispersion(x, atmospheric_stability)\n",
    "\n",
    "    a = Q/(2*np.pi*U*dy*dz)\n",
    "    b = np.exp((-(y-y0)**2)/(2*dy**2))\n",
    "    c = np.exp((-(z-H)**2)/(2*dz**2))\n",
    "    d = np.exp((-(z+H)**2)/(2*dz**2))\n",
    "    return a*b*(c+d)"
   ]
  },
  {
   "cell_type": "code",
   "execution_count": 39,
   "metadata": {},
   "outputs": [
    {
     "data": {
      "image/png": "[encoded data removed]",
      "text/plain": [
       "<Figure size 640x480 with 2 Axes>"
      ]
     },
     "metadata": {},
     "output_type": "display_data"
    },
    {
     "name": "stdout",
     "output_type": "stream",
     "text": [
      "1.4318445698533726e-08\n",
      "-0.0\n"
     ]
    }
   ],
   "source": [
    "lev = list(np.geomspace(min_concentration, 1, 20))\n",
    "\n",
    "\n",
    "rr, yy = np.meshgrid(np.linspace(0.005, rmax, N), np.linspace(-ymax, ymax, 2*N))\n",
    "cc = gauss_func(rr,yy, 1, atmospheric_stability)\n",
    "\n",
    "cs = plt.contourf(rr, yy, cc, lev, colors=['#808080', '#A0A0A0', '#C0C0C0'])\n",
    "plt.axis('off')\n",
    "plt.savefig('test.jpg', dpi=300, bbox_inches='tight', facecolor=\"black\")\n",
    "plt.axis('on')\n",
    "cbar = plt.colorbar()\n",
    "cbar.ax.set_yscale('log')\n",
    "plt.show()\n",
    "print(cc[1000][1000])\n",
    "print(cc[1000][0])\n"
   ]
  },
  {
   "cell_type": "code",
   "execution_count": 40,
   "metadata": {},
   "outputs": [
    {
     "data": {
      "image/png": "[encoded data removed]",
      "text/plain": [
       "<Figure size 640x480 with 2 Axes>"
      ]
     },
     "metadata": {},
     "output_type": "display_data"
    },
    {
     "name": "stdout",
     "output_type": "stream",
     "text": [
      "1.1981168128725645e-07\n",
      "-0.0\n"
     ]
    }
   ],
   "source": [
    "rmax = 6000\n",
    "lev = list(np.geomspace(min_concentration, 1, 20))\n",
    "\n",
    "rr, yy = np.meshgrid(np.linspace(0.005, rmax, N), np.linspace(-ymax, ymax, 2*N))\n",
    "cc = gauss_func(rr,yy, 1, atmospheric_stability)\n",
    "\n",
    "cs = plt.contourf(rr, yy, cc, lev, colors=['#808080', '#A0A0A0', '#C0C0C0'])\n",
    "plt.axis('off')\n",
    "plt.savefig('test.jpg', dpi=300, bbox_inches='tight', facecolor=\"black\")\n",
    "plt.axis('on')\n",
    "cbar = plt.colorbar()\n",
    "cbar.ax.set_yscale('log')\n",
    "plt.show()\n",
    "print(cc[1000][1000])\n",
    "print(cc[1000][0])\n"
   ]
  }
 ],
 "metadata": {
  "kernelspec": {
   "display_name": ".venv",
   "language": "python",
   "name": "python3"
  },
  "language_info": {
   "codemirror_mode": {
    "name": "ipython",
    "version": 3
   },
   "file_extension": ".py",
   "mimetype": "text/x-python",
   "name": "python",
   "nbconvert_exporter": "python",
   "pygments_lexer": "ipython3",
   "version": "3.12.7"
  }
 },
 "nbformat": 4,
 "nbformat_minor": 2
}
